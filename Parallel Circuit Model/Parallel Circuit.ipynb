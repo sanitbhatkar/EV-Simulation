{
 "cells": [
  {
   "cell_type": "markdown",
   "id": "c49ccc98",
   "metadata": {},
   "source": [
    "## Functions"
   ]
  },
  {
   "cell_type": "markdown",
   "id": "1bbda956",
   "metadata": {},
   "source": [
    "__Function for getting the dynamic parameters of the cell model__"
   ]
  },
  {
   "cell_type": "code",
   "execution_count": 2,
   "id": "c3460d75",
   "metadata": {},
   "outputs": [],
   "source": [
    "def get_dyn_param(data,cell_temp):    \n",
    "    \n",
    "    ind = np.where(np.array(data['temps']) == cell_temp)[0][0]\n",
    "\n",
    "    eta = data['etaParam'][ind]\n",
    "    Q = data['QParam'][ind]\n",
    "    gamma = data['GParam'][ind]\n",
    "    M0 = data['M0Param'][ind]\n",
    "    M = data['MParam'][ind]\n",
    "    R0 = data['R0Param'][ind]\n",
    "    RC = data['RCParam'][ind]\n",
    "    R = data['RParam'][ind]\n",
    "\n",
    "    return (eta,Q,gamma,M0,M,R0,RC,R)"
   ]
  },
  {
   "cell_type": "code",
   "execution_count": 74,
   "id": "ca7a2bc3",
   "metadata": {},
   "outputs": [],
   "source": [
    "from scipy.interpolate import interp1d\n",
    "\n",
    "def interp_ocv(z,OCV):\n",
    "    \n",
    "    dum = interp1d(z,OCV)\n",
    "    \n",
    "    return dum"
   ]
  },
  {
   "cell_type": "markdown",
   "id": "7e4fea6e",
   "metadata": {},
   "source": [
    "__OCV calculation for any SOC value Function__"
   ]
  },
  {
   "cell_type": "code",
   "execution_count": 81,
   "id": "2d467cb4",
   "metadata": {},
   "outputs": [],
   "source": [
    "def OCV_from_SOC(z,temp,SOC,OCV_0,OCV_rel):\n",
    "\n",
    "    # OCV calculation from the given SOC (Coloumb Counting)\n",
    "\n",
    "    OCV_0_z = interp_ocv(SOC,OCV_0)(z)\n",
    "    OCV_rel_z = interp_ocv(SOC,OCV_rel)(z)\n",
    "\n",
    "    ocv_z = OCV_0_z + temp*OCV_rel_z\n",
    "\n",
    "    return (ocv_z)"
   ]
  },
  {
   "cell_type": "markdown",
   "id": "9aeaa7b1",
   "metadata": {},
   "source": [
    "## Main Code"
   ]
  },
  {
   "cell_type": "markdown",
   "id": "d3366ad7",
   "metadata": {},
   "source": [
    "__Importing the Dynamic model__"
   ]
  },
  {
   "cell_type": "code",
   "execution_count": 3,
   "id": "65c02971",
   "metadata": {},
   "outputs": [],
   "source": [
    "import json\n",
    "  \n",
    "# Opening JSON file\n",
    "f = open('modeldyn.json')\n",
    "  \n",
    "# returns JSON object as \n",
    "# a dictionary\n",
    "data = json.load(f)\n",
    "  \n",
    "# Closing file\n",
    "f.close()"
   ]
  },
  {
   "cell_type": "markdown",
   "id": "d6cbdd59",
   "metadata": {},
   "source": [
    "__User Inputs__"
   ]
  },
  {
   "cell_type": "code",
   "execution_count": 89,
   "id": "015b0198",
   "metadata": {},
   "outputs": [],
   "source": [
    "# Number of cells in series in a module\n",
    "Ns = 5\n",
    "\n",
    "# Number of modules in parallel\n",
    "Np = 3\n",
    "\n",
    "# Simulation Time\n",
    "max_time = 10\n",
    "\n",
    "# Pack rests at time t0\n",
    "t0 = 5\n",
    "\n",
    "# Storage variable\n",
    "z_pack = np.zeros((max_time,Ns,Np))\n",
    "i_pack = np.zeros((max_time,Ns,Np))\n",
    "\n",
    "# Initial state of the cells in the pack\n",
    "z_ini = 0.25*np.ones((Ns,Np))\n",
    "irc = np.zeros((Ns,Np))\n",
    "h = np.zeros((Ns,Np))\n",
    "\n",
    "# Cell Interconnect resistance\n",
    "R_inter = 125e-6\n",
    "\n",
    "# Cell Temperature\n",
    "# It is assumed that the cell temperature remains constant at 25°C\n",
    "cell_temp = 25\n",
    "\n",
    "# Random values initialization\n",
    "random_init = 1"
   ]
  },
  {
   "cell_type": "code",
   "execution_count": 53,
   "id": "a14181d2",
   "metadata": {},
   "outputs": [],
   "source": [
    "# Cell Parametesr calculated from dynamic model\n",
    "\n",
    "eta = get_dyn_param(data,cell_temp)[0]*np.ones((Ns,Np)) \n",
    "Q = get_dyn_param(data,cell_temp)[1]*np.ones((Ns,Np)) \n",
    "gamma = get_dyn_param(data,cell_temp)[2]*np.ones((Ns,Np)) \n",
    "M0 = get_dyn_param(data,cell_temp)[3]*np.ones((Ns,Np)) \n",
    "M = get_dyn_param(data,cell_temp)[4]*np.ones((Ns,Np)) \n",
    "R0 = get_dyn_param(data,cell_temp)[5]*np.ones((Ns,Np)) \n",
    "RC = get_dyn_param(data,cell_temp)[6]*np.ones((Ns,Np)) \n",
    "R = get_dyn_param(data,cell_temp)[7]*np.ones((Ns,Np)) "
   ]
  },
  {
   "cell_type": "code",
   "execution_count": 60,
   "id": "65264db7",
   "metadata": {},
   "outputs": [],
   "source": [
    "# Fault parameters\n",
    "\n",
    "#1.Open Cicuit fault\n",
    "# Cell will have infinite resistance\n",
    "R0_open = np.inf\n",
    "\n",
    "#2.Short circuit fault\n",
    "# During short circuit SOC cannot be measured\n",
    "# We will assume some resistance for the cell\n",
    "\n",
    "z_short = np.nan\n",
    "\n",
    "R0_short = 0.025"
   ]
  },
  {
   "cell_type": "code",
   "execution_count": 70,
   "id": "f305a197",
   "metadata": {},
   "outputs": [],
   "source": [
    "if random_init:\n",
    "    \n",
    "    z = 0.25 + 0.4*np.random.rand(Ns,Np)\n",
    "    Q = 4.5 + np.random.rand(Ns,Np)\n",
    "    R0 = 0.005 + 0.020*np.random.rand(Ns,Np)"
   ]
  },
  {
   "cell_type": "code",
   "execution_count": 71,
   "id": "62897c83",
   "metadata": {},
   "outputs": [],
   "source": [
    "# Updating the cell resistance with interconnect resistance\n",
    "\n",
    "R0 = R0 + 2*R_inter"
   ]
  },
  {
   "cell_type": "markdown",
   "id": "9a6a32d3",
   "metadata": {},
   "source": [
    "__Simulation Parameters__"
   ]
  },
  {
   "cell_type": "code",
   "execution_count": 108,
   "id": "ee78369e",
   "metadata": {},
   "outputs": [],
   "source": [
    "# Pack capcity is minimum module capacity\n",
    "\n",
    "module_cap = np.sum(Q, axis = 1)\n",
    "pack_cap = min(module_cap)\n",
    "\n",
    "# Charge/Discharge current\n",
    "# 10C charge/discharge\n",
    "\n",
    "I = pack_cap*10\n",
    "\n",
    "# Introducing the faulty cell\n",
    "z[3][2] = z_short"
   ]
  },
  {
   "cell_type": "code",
   "execution_count": 77,
   "id": "47418465",
   "metadata": {},
   "outputs": [],
   "source": [
    "SOC = data['SOC']\n",
    "OCV_0  = data['OCV0']\n",
    "OCV_rel = data['OCVrel']"
   ]
  },
  {
   "cell_type": "code",
   "execution_count": 121,
   "id": "55ee3a39",
   "metadata": {},
   "outputs": [],
   "source": [
    "# Terminal Voltage Calculation\n",
    "\n",
    "v = OCV_from_SOC(z,cell_temp,SOC,OCV_0,OCV_rel)\n",
    "v = v + np.multiply(M,h) - np.multiply(R,irc)\n",
    "\n",
    "# Setting the short-circuit cell voltage to zero\n",
    "v[np.isnan(v)] = 0"
   ]
  },
  {
   "cell_type": "code",
   "execution_count": 123,
   "id": "a16c3e43",
   "metadata": {},
   "outputs": [],
   "source": [
    "# If the cell is short-ciruit then current is going to external resitor\n",
    "R0[np.isnan(z)] = R0_short"
   ]
  },
  {
   "cell_type": "code",
   "execution_count": 191,
   "id": "08512508",
   "metadata": {},
   "outputs": [],
   "source": [
    "# Pack voltage calculation\n",
    "\n",
    "# Module current calculation\n",
    "im = (np.sum(np.divide(v,R0),axis = 1) - I)\n",
    "\n",
    "# Module equivalent resistance reciprocal\n",
    "r_invm = np.sum(np.divide(1,R0),axis = 1)\n",
    "\n",
    "# Module voltage\n",
    "Vm = np.divide(im,r_invm)\n",
    "\n",
    "# Pack Voltage\n",
    "V_pack = sum(Vm)\n",
    "\n",
    "# Cell voltage calculation\n",
    "v - np.tile(Vm,3).reshape(3,5).T\n",
    "\n",
    "# Cell current calculation\n",
    "i_cell = np.divide(v,R0)\n",
    "\n",
    "# Cell new SOC calculation\n",
    "z = z-(1/3600)*(np.divide(i,Q))\n",
    "\n",
    "# Short-circuiting the cell below discharge capacity\n",
    "z[z<0] = np.nan\n",
    "\n",
    "# Updating the capacitor volage\n",
    "irc = np.multiply(RC,irc) + np.multiply((1-RC),i_cell)"
   ]
  },
  {
   "cell_type": "code",
   "execution_count": 192,
   "id": "a7d21454",
   "metadata": {},
   "outputs": [
    {
     "data": {
      "text/plain": [
       "array([[ 6.11909844e+01,  1.88439581e+00, -2.82488567e+03],\n",
       "       [ 2.04065115e+01,  1.21785545e+00, -9.36344921e+03],\n",
       "       [ 1.96700168e+01,  1.10797258e+00, -3.13584045e+03],\n",
       "       [ 1.72317258e+01,  1.46799212e+00,  0.00000000e+00],\n",
       "       [ 5.38326786e+01,  1.09342610e+00, -6.07147413e+03]])"
      ]
     },
     "execution_count": 192,
     "metadata": {},
     "output_type": "execute_result"
    }
   ],
   "source": [
    "irc"
   ]
  },
  {
   "cell_type": "code",
   "execution_count": 193,
   "id": "5eb2d595",
   "metadata": {},
   "outputs": [
    {
     "data": {
      "text/plain": [
       "array([[533.07174638, 259.51936081, 138.49147128],\n",
       "       [177.77348796, 167.72329154, 459.04790783],\n",
       "       [171.3574362 , 152.59020193, 153.73618914],\n",
       "       [150.11600552, 202.1721635 ,   0.        ],\n",
       "       [468.9690854 , 150.58685779, 297.6571385 ]])"
      ]
     },
     "execution_count": 193,
     "metadata": {},
     "output_type": "execute_result"
    }
   ],
   "source": [
    "i_cell"
   ]
  },
  {
   "cell_type": "code",
   "execution_count": 194,
   "id": "d80036f4",
   "metadata": {},
   "outputs": [
    {
     "data": {
      "text/plain": [
       "145.87293917911842"
      ]
     },
     "execution_count": 194,
     "metadata": {},
     "output_type": "execute_result"
    }
   ],
   "source": [
    "I"
   ]
  },
  {
   "cell_type": "code",
   "execution_count": null,
   "id": "aa4a08e6",
   "metadata": {},
   "outputs": [],
   "source": []
  }
 ],
 "metadata": {
  "kernelspec": {
   "display_name": "Python 3 (ipykernel)",
   "language": "python",
   "name": "python3"
  },
  "language_info": {
   "codemirror_mode": {
    "name": "ipython",
    "version": 3
   },
   "file_extension": ".py",
   "mimetype": "text/x-python",
   "name": "python",
   "nbconvert_exporter": "python",
   "pygments_lexer": "ipython3",
   "version": "3.9.15"
  }
 },
 "nbformat": 4,
 "nbformat_minor": 5
}
